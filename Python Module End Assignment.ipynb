{
 "cells": [
  {
   "cell_type": "code",
   "execution_count": 1,
   "id": "74239e12-3328-4693-ad4d-65708a9794fd",
   "metadata": {},
   "outputs": [],
   "source": [
    "import pandas as pd\n",
    "import numpy as np\n",
    "import matplotlib.pyplot as plt\n",
    "import seaborn as sns"
   ]
  },
  {
   "cell_type": "code",
   "execution_count": 2,
   "id": "67f581de-7861-4ed2-b1a8-1f6d5da1e14d",
   "metadata": {},
   "outputs": [],
   "source": [
    "df = pd.read_csv(\"F:/Entry/myexcel - myexcel.csv.csv\")"
   ]
  },
  {
   "cell_type": "code",
   "execution_count": 3,
   "id": "a73a7cf1-c188-4801-98b2-541159cd1fd5",
   "metadata": {},
   "outputs": [
    {
     "data": {
      "text/html": [
       "<div>\n",
       "<style scoped>\n",
       "    .dataframe tbody tr th:only-of-type {\n",
       "        vertical-align: middle;\n",
       "    }\n",
       "\n",
       "    .dataframe tbody tr th {\n",
       "        vertical-align: top;\n",
       "    }\n",
       "\n",
       "    .dataframe thead th {\n",
       "        text-align: right;\n",
       "    }\n",
       "</style>\n",
       "<table border=\"1\" class=\"dataframe\">\n",
       "  <thead>\n",
       "    <tr style=\"text-align: right;\">\n",
       "      <th></th>\n",
       "      <th>Name</th>\n",
       "      <th>Team</th>\n",
       "      <th>Number</th>\n",
       "      <th>Position</th>\n",
       "      <th>Age</th>\n",
       "      <th>Height</th>\n",
       "      <th>Weight</th>\n",
       "      <th>College</th>\n",
       "      <th>Salary</th>\n",
       "    </tr>\n",
       "  </thead>\n",
       "  <tbody>\n",
       "    <tr>\n",
       "      <th>0</th>\n",
       "      <td>Avery Bradley</td>\n",
       "      <td>Boston Celtics</td>\n",
       "      <td>0</td>\n",
       "      <td>PG</td>\n",
       "      <td>25</td>\n",
       "      <td>06-Feb</td>\n",
       "      <td>180</td>\n",
       "      <td>Texas</td>\n",
       "      <td>7730337.0</td>\n",
       "    </tr>\n",
       "    <tr>\n",
       "      <th>1</th>\n",
       "      <td>Jae Crowder</td>\n",
       "      <td>Boston Celtics</td>\n",
       "      <td>99</td>\n",
       "      <td>SF</td>\n",
       "      <td>25</td>\n",
       "      <td>06-Jun</td>\n",
       "      <td>235</td>\n",
       "      <td>Marquette</td>\n",
       "      <td>6796117.0</td>\n",
       "    </tr>\n",
       "    <tr>\n",
       "      <th>2</th>\n",
       "      <td>John Holland</td>\n",
       "      <td>Boston Celtics</td>\n",
       "      <td>30</td>\n",
       "      <td>SG</td>\n",
       "      <td>27</td>\n",
       "      <td>06-May</td>\n",
       "      <td>205</td>\n",
       "      <td>Boston University</td>\n",
       "      <td>NaN</td>\n",
       "    </tr>\n",
       "    <tr>\n",
       "      <th>3</th>\n",
       "      <td>R.J. Hunter</td>\n",
       "      <td>Boston Celtics</td>\n",
       "      <td>28</td>\n",
       "      <td>SG</td>\n",
       "      <td>22</td>\n",
       "      <td>06-May</td>\n",
       "      <td>185</td>\n",
       "      <td>Georgia State</td>\n",
       "      <td>1148640.0</td>\n",
       "    </tr>\n",
       "    <tr>\n",
       "      <th>4</th>\n",
       "      <td>Jonas Jerebko</td>\n",
       "      <td>Boston Celtics</td>\n",
       "      <td>8</td>\n",
       "      <td>PF</td>\n",
       "      <td>29</td>\n",
       "      <td>06-Oct</td>\n",
       "      <td>231</td>\n",
       "      <td>NaN</td>\n",
       "      <td>5000000.0</td>\n",
       "    </tr>\n",
       "  </tbody>\n",
       "</table>\n",
       "</div>"
      ],
      "text/plain": [
       "            Name            Team  Number Position  Age  Height  Weight  \\\n",
       "0  Avery Bradley  Boston Celtics       0       PG   25  06-Feb     180   \n",
       "1    Jae Crowder  Boston Celtics      99       SF   25  06-Jun     235   \n",
       "2   John Holland  Boston Celtics      30       SG   27  06-May     205   \n",
       "3    R.J. Hunter  Boston Celtics      28       SG   22  06-May     185   \n",
       "4  Jonas Jerebko  Boston Celtics       8       PF   29  06-Oct     231   \n",
       "\n",
       "             College     Salary  \n",
       "0              Texas  7730337.0  \n",
       "1          Marquette  6796117.0  \n",
       "2  Boston University        NaN  \n",
       "3      Georgia State  1148640.0  \n",
       "4                NaN  5000000.0  "
      ]
     },
     "execution_count": 3,
     "metadata": {},
     "output_type": "execute_result"
    }
   ],
   "source": [
    "df.head()"
   ]
  },
  {
   "cell_type": "code",
   "execution_count": 4,
   "id": "b07fb3fa-1650-45af-9b90-b02ccb4470a2",
   "metadata": {},
   "outputs": [],
   "source": [
    "# Step 2: Generate random heights between 150 and 180\n",
    "random_heights = np.random.randint(150, 181, df.shape[0])"
   ]
  },
  {
   "cell_type": "code",
   "execution_count": 10,
   "id": "43f6b0d0-0741-4062-ad4d-778f7598ce10",
   "metadata": {},
   "outputs": [],
   "source": [
    "# Step 3: Replace the \"height\" column with random values\n",
    "df['Height'] = random_heights"
   ]
  },
  {
   "cell_type": "code",
   "execution_count": 11,
   "id": "99e9e8c5-fe29-4e90-a090-b70bd3c31425",
   "metadata": {},
   "outputs": [
    {
     "name": "stdout",
     "output_type": "stream",
     "text": [
      "count    458.000000\n",
      "mean     164.740175\n",
      "std        8.944771\n",
      "min      150.000000\n",
      "25%      157.000000\n",
      "50%      165.000000\n",
      "75%      172.000000\n",
      "max      180.000000\n",
      "Name: Height, dtype: float64\n"
     ]
    }
   ],
   "source": [
    "# Step 4: Check data integrity\n",
    "print(df['Height'].describe())"
   ]
  },
  {
   "cell_type": "code",
   "execution_count": 12,
   "id": "96d090d5-b9ec-4088-9f52-d2593bbc56db",
   "metadata": {},
   "outputs": [
    {
     "data": {
      "text/html": [
       "<div>\n",
       "<style scoped>\n",
       "    .dataframe tbody tr th:only-of-type {\n",
       "        vertical-align: middle;\n",
       "    }\n",
       "\n",
       "    .dataframe tbody tr th {\n",
       "        vertical-align: top;\n",
       "    }\n",
       "\n",
       "    .dataframe thead th {\n",
       "        text-align: right;\n",
       "    }\n",
       "</style>\n",
       "<table border=\"1\" class=\"dataframe\">\n",
       "  <thead>\n",
       "    <tr style=\"text-align: right;\">\n",
       "      <th></th>\n",
       "      <th>Name</th>\n",
       "      <th>Team</th>\n",
       "      <th>Number</th>\n",
       "      <th>Position</th>\n",
       "      <th>Age</th>\n",
       "      <th>Height</th>\n",
       "      <th>Weight</th>\n",
       "      <th>College</th>\n",
       "      <th>Salary</th>\n",
       "      <th>height</th>\n",
       "    </tr>\n",
       "  </thead>\n",
       "  <tbody>\n",
       "    <tr>\n",
       "      <th>0</th>\n",
       "      <td>Avery Bradley</td>\n",
       "      <td>Boston Celtics</td>\n",
       "      <td>0</td>\n",
       "      <td>PG</td>\n",
       "      <td>25</td>\n",
       "      <td>172</td>\n",
       "      <td>180</td>\n",
       "      <td>Texas</td>\n",
       "      <td>7730337.0</td>\n",
       "      <td>172</td>\n",
       "    </tr>\n",
       "    <tr>\n",
       "      <th>1</th>\n",
       "      <td>Jae Crowder</td>\n",
       "      <td>Boston Celtics</td>\n",
       "      <td>99</td>\n",
       "      <td>SF</td>\n",
       "      <td>25</td>\n",
       "      <td>150</td>\n",
       "      <td>235</td>\n",
       "      <td>Marquette</td>\n",
       "      <td>6796117.0</td>\n",
       "      <td>150</td>\n",
       "    </tr>\n",
       "    <tr>\n",
       "      <th>2</th>\n",
       "      <td>John Holland</td>\n",
       "      <td>Boston Celtics</td>\n",
       "      <td>30</td>\n",
       "      <td>SG</td>\n",
       "      <td>27</td>\n",
       "      <td>162</td>\n",
       "      <td>205</td>\n",
       "      <td>Boston University</td>\n",
       "      <td>NaN</td>\n",
       "      <td>162</td>\n",
       "    </tr>\n",
       "    <tr>\n",
       "      <th>3</th>\n",
       "      <td>R.J. Hunter</td>\n",
       "      <td>Boston Celtics</td>\n",
       "      <td>28</td>\n",
       "      <td>SG</td>\n",
       "      <td>22</td>\n",
       "      <td>150</td>\n",
       "      <td>185</td>\n",
       "      <td>Georgia State</td>\n",
       "      <td>1148640.0</td>\n",
       "      <td>150</td>\n",
       "    </tr>\n",
       "    <tr>\n",
       "      <th>4</th>\n",
       "      <td>Jonas Jerebko</td>\n",
       "      <td>Boston Celtics</td>\n",
       "      <td>8</td>\n",
       "      <td>PF</td>\n",
       "      <td>29</td>\n",
       "      <td>167</td>\n",
       "      <td>231</td>\n",
       "      <td>NaN</td>\n",
       "      <td>5000000.0</td>\n",
       "      <td>167</td>\n",
       "    </tr>\n",
       "  </tbody>\n",
       "</table>\n",
       "</div>"
      ],
      "text/plain": [
       "            Name            Team  Number Position  Age  Height  Weight  \\\n",
       "0  Avery Bradley  Boston Celtics       0       PG   25     172     180   \n",
       "1    Jae Crowder  Boston Celtics      99       SF   25     150     235   \n",
       "2   John Holland  Boston Celtics      30       SG   27     162     205   \n",
       "3    R.J. Hunter  Boston Celtics      28       SG   22     150     185   \n",
       "4  Jonas Jerebko  Boston Celtics       8       PF   29     167     231   \n",
       "\n",
       "             College     Salary  height  \n",
       "0              Texas  7730337.0     172  \n",
       "1          Marquette  6796117.0     150  \n",
       "2  Boston University        NaN     162  \n",
       "3      Georgia State  1148640.0     150  \n",
       "4                NaN  5000000.0     167  "
      ]
     },
     "execution_count": 12,
     "metadata": {},
     "output_type": "execute_result"
    }
   ],
   "source": [
    "df.head()"
   ]
  },
  {
   "cell_type": "code",
   "execution_count": 13,
   "id": "ae647053-18ad-496a-ace0-ece1e792a966",
   "metadata": {},
   "outputs": [],
   "source": [
    "# Step 1: Count the employees in each team\n",
    "team_counts = df['Team'].value_counts()"
   ]
  },
  {
   "cell_type": "code",
   "execution_count": 14,
   "id": "d9c66eba-60d4-4867-8ba3-6dd53e3ac70f",
   "metadata": {},
   "outputs": [],
   "source": [
    "# Step 2: Calculate percentage split\n",
    "team_percentage = (team_counts / df.shape[0]) * 100"
   ]
  },
  {
   "cell_type": "code",
   "execution_count": 15,
   "id": "7746fad3-ef38-4a9e-880c-eade524b2527",
   "metadata": {},
   "outputs": [
    {
     "name": "stdout",
     "output_type": "stream",
     "text": [
      "                        Employee Count  Percentage (%)\n",
      "Team                                                  \n",
      "New Orleans Pelicans                19        4.148472\n",
      "Memphis Grizzlies                   18        3.930131\n",
      "Utah Jazz                           16        3.493450\n",
      "Milwaukee Bucks                     16        3.493450\n",
      "New York Knicks                     16        3.493450\n",
      "Boston Celtics                      15        3.275109\n",
      "Los Angeles Clippers                15        3.275109\n",
      "Los Angeles Lakers                  15        3.275109\n",
      "Phoenix Suns                        15        3.275109\n",
      "Sacramento Kings                    15        3.275109\n",
      "Brooklyn Nets                       15        3.275109\n",
      "Philadelphia 76ers                  15        3.275109\n",
      "Toronto Raptors                     15        3.275109\n",
      "Golden State Warriors               15        3.275109\n",
      "Indiana Pacers                      15        3.275109\n",
      "Detroit Pistons                     15        3.275109\n",
      "Cleveland Cavaliers                 15        3.275109\n",
      "Chicago Bulls                       15        3.275109\n",
      "Houston Rockets                     15        3.275109\n",
      "San Antonio Spurs                   15        3.275109\n",
      "Atlanta Hawks                       15        3.275109\n",
      "Dallas Mavericks                    15        3.275109\n",
      "Charlotte Hornets                   15        3.275109\n",
      "Miami Heat                          15        3.275109\n",
      "Denver Nuggets                      15        3.275109\n",
      "Washington Wizards                  15        3.275109\n",
      "Portland Trail Blazers              15        3.275109\n",
      "Oklahoma City Thunder               15        3.275109\n",
      "Orlando Magic                       14        3.056769\n",
      "Minnesota Timberwolves              14        3.056769\n"
     ]
    }
   ],
   "source": [
    "# Display the results\n",
    "team_distribution = pd.DataFrame({'Employee Count': team_counts, 'Percentage (%)': team_percentage})\n",
    "print(team_distribution)"
   ]
  },
  {
   "cell_type": "code",
   "execution_count": 16,
   "id": "011cd1a7-8ebc-4291-a568-0e3cf10f0306",
   "metadata": {},
   "outputs": [],
   "source": [
    "# Step 1: Count the employees in each position\n",
    "position_counts = df['Position'].value_counts()"
   ]
  },
  {
   "cell_type": "code",
   "execution_count": 17,
   "id": "d2bd0e68-1a7a-4f19-8448-e6e73e1cbb3d",
   "metadata": {},
   "outputs": [
    {
     "name": "stdout",
     "output_type": "stream",
     "text": [
      "          Emplyee Count\n",
      "Position               \n",
      "SG                  102\n",
      "PF                  100\n",
      "PG                   92\n",
      "SF                   85\n",
      "C                    79\n"
     ]
    }
   ],
   "source": [
    "# Display the results\n",
    "position_distribution = pd.DataFrame({'Emplyee Count': position_counts})\n",
    "print(position_distribution)"
   ]
  },
  {
   "cell_type": "code",
   "execution_count": 18,
   "id": "1e4c8d89-9f17-4313-bb83-a8a9eb30a822",
   "metadata": {},
   "outputs": [],
   "source": [
    "# Step 1: Define age bins and labels"
   ]
  },
  {
   "cell_type": "code",
   "execution_count": 1,
   "id": "ff4612be-e25b-4add-9f17-444a19b5e45b",
   "metadata": {},
   "outputs": [],
   "source": [
    "age_bins = [18, 29, 39, 49, 59, 69]\n",
    "age_labels = ['18-29', '30-39', '40-49', '50-59', '60-69']"
   ]
  },
  {
   "cell_type": "code",
   "execution_count": 5,
   "id": "5dd0b907-0ad0-4bd7-9bc0-bf077816d886",
   "metadata": {},
   "outputs": [],
   "source": [
    "# Step 2: Create an 'age_group' column using pd.cut to categorize each employee's age\n",
    "df['age_group'] = pd.cut(df['Age'], bins = age_bins, labels = age_labels, right = False)"
   ]
  },
  {
   "cell_type": "code",
   "execution_count": 7,
   "id": "c5976b47-4063-4eef-bcf0-59760d2340d1",
   "metadata": {},
   "outputs": [],
   "source": [
    "# Step 3: Count employees in each age group\n",
    "age_group_counts = df['age_group'].value_counts()"
   ]
  },
  {
   "cell_type": "code",
   "execution_count": 9,
   "id": "44874ec4-df90-40ee-a182-eb00a715339e",
   "metadata": {},
   "outputs": [],
   "source": [
    "# Identify the predominant age group\n",
    "predominant_age_group = age_group_counts.idxmax()\n",
    "predominant_count = age_group_counts.max()"
   ]
  },
  {
   "cell_type": "code",
   "execution_count": 10,
   "id": "bd6564ef-e6e4-4d95-8a40-46fa54c6a194",
   "metadata": {},
   "outputs": [
    {
     "name": "stdout",
     "output_type": "stream",
     "text": [
      "Predominant Age Group:18-29(308 employees)\n",
      "age_group\n",
      "18-29    308\n",
      "30-39    145\n",
      "40-49      5\n",
      "50-59      0\n",
      "60-69      0\n",
      "Name: count, dtype: int64\n"
     ]
    }
   ],
   "source": [
    "# Display the results\n",
    "print(f\"Predominant Age Group:{predominant_age_group}({predominant_count} employees)\")\n",
    "print(age_group_counts)"
   ]
  },
  {
   "cell_type": "code",
   "execution_count": 11,
   "id": "1dfd0214-8407-4123-86ad-c82afc00038d",
   "metadata": {},
   "outputs": [],
   "source": [
    "# Step 1: Calculate total salary by team\n",
    "team_salary_expenditure = df.groupby('Team')['Salary'].sum()"
   ]
  },
  {
   "cell_type": "code",
   "execution_count": 12,
   "id": "b5837db0-c9cc-415a-8282-524adc1db3eb",
   "metadata": {},
   "outputs": [],
   "source": [
    "# Step 2: Calculate total salary by position\n",
    "position_salary_expenditure = df.groupby('Position')['Salary'].sum()"
   ]
  },
  {
   "cell_type": "code",
   "execution_count": 13,
   "id": "9a696257-f5fe-4555-be67-27b73c2e3830",
   "metadata": {},
   "outputs": [],
   "source": [
    "# Step 3: Identify the team and position with the highest salary expenditure\n",
    "highest_salary_team = team_salary_expenditure.idxmax()\n",
    "highest_salary_position = position_salary_expenditure.idxmax()"
   ]
  },
  {
   "cell_type": "code",
   "execution_count": 16,
   "id": "43ed271c-2404-45fa-afd0-e9c3d8267144",
   "metadata": {},
   "outputs": [
    {
     "name": "stdout",
     "output_type": "stream",
     "text": [
      "Total Salary Expenditure by Team:\n",
      " Team\n",
      "Atlanta Hawks              72902950.0\n",
      "Boston Celtics             58541068.0\n",
      "Brooklyn Nets              52528475.0\n",
      "Charlotte Hornets          78340920.0\n",
      "Chicago Bulls              86783378.0\n",
      "Cleveland Cavaliers       106988689.0\n",
      "Dallas Mavericks           71198732.0\n",
      "Denver Nuggets             60121930.0\n",
      "Detroit Pistons            67168263.0\n",
      "Golden State Warriors      88868997.0\n",
      "Houston Rockets            75283021.0\n",
      "Indiana Pacers             66751826.0\n",
      "Los Angeles Clippers       94854640.0\n",
      "Los Angeles Lakers         71770431.0\n",
      "Memphis Grizzlies          76550880.0\n",
      "Miami Heat                 82515673.0\n",
      "Milwaukee Bucks            69603517.0\n",
      "Minnesota Timberwolves     59709697.0\n",
      "New Orleans Pelicans       82750774.0\n",
      "New York Knicks            73303898.0\n",
      "Oklahoma City Thunder      93765298.0\n",
      "Orlando Magic              60161470.0\n",
      "Philadelphia 76ers         30992894.0\n",
      "Phoenix Suns               63445135.0\n",
      "Portland Trail Blazers     48301818.0\n",
      "Sacramento Kings           71683666.0\n",
      "San Antonio Spurs          84442733.0\n",
      "Toronto Raptors            71117611.0\n",
      "Utah Jazz                  64007367.0\n",
      "Washington Wizards         76328636.0\n",
      "Name: Salary, dtype: float64\n",
      "Team with Highest Salary Expenditure: Cleveland Cavaliers -> 106988689.0\n",
      "\n",
      "Total Salary Expenditure by Position:\n",
      " Position\n",
      "C     466377332.0\n",
      "PF    442560850.0\n",
      "PG    446848971.0\n",
      "SF    408020976.0\n",
      "SG    396976258.0\n",
      "Name: Salary, dtype: float64\n",
      "Position with Highest Salary Expenditure: C -> 466377332.0\n"
     ]
    }
   ],
   "source": [
    "# Display the results\n",
    "print(\"Total Salary Expenditure by Team:\\n\", team_salary_expenditure)\n",
    "print(\"Team with Highest Salary Expenditure:\", highest_salary_team, \"->\", team_salary_expenditure[highest_salary_team])\n",
    "\n",
    "print(\"\\nTotal Salary Expenditure by Position:\\n\", position_salary_expenditure)\n",
    "print(\"Position with Highest Salary Expenditure:\", highest_salary_position, \"->\", position_salary_expenditure[highest_salary_position])"
   ]
  },
  {
   "cell_type": "code",
   "execution_count": 17,
   "id": "710971eb-1c1a-4386-8d30-3f525135c9c7",
   "metadata": {},
   "outputs": [
    {
     "name": "stdout",
     "output_type": "stream",
     "text": [
      "Correlation between Age and Salary: 0.2140094122657097\n"
     ]
    }
   ],
   "source": [
    "# Step 1: Calculate the correlation coefficient between age and salary\n",
    "age_salary_corr = df['Age'].corr(df['Salary'])\n",
    "print(\"Correlation between Age and Salary:\", age_salary_corr)"
   ]
  },
  {
   "cell_type": "code",
   "execution_count": 18,
   "id": "9d409f72-2916-4418-99b3-787890ac161a",
   "metadata": {
    "scrolled": true
   },
   "outputs": [
    {
     "data": {
      "image/png": "[encoded data removed]",
      "text/plain": [
       "<Figure size 1000x600 with 1 Axes>"
      ]
     },
     "metadata": {},
     "output_type": "display_data"
    }
   ],
   "source": [
    "# Step 2: Visualize the correlation with a scatter plot\n",
    "plt.figure(figsize=(10,6))\n",
    "sns.scatterplot(x = 'Age', y = 'Salary', data =df)\n",
    "plt.title(f'Correlation between Age and Salary (Correlation Coefficient: {age_salary_corr:.2f})')\n",
    "plt.xlabel('Age')\n",
    "plt.ylabel('Salary')\n",
    "#Add a trend line to show the correlation\n",
    "sns.regplot(x = 'Age', y = 'Salary', data = df, scatter= False, color = 'red')\n",
    "plt.show()"
   ]
  },
  {
   "cell_type": "raw",
   "id": "5a0dedbd-3a69-4300-8f4c-0ba66499c456",
   "metadata": {},
   "source": [
    "Based on the analysis of ABC Company’s employee dataset, here are some key insights that highlight trends, patterns, and correlations:\n",
    "\n",
    "1. Employee Distribution Across Teams\n",
    "The analysis of team distribution shows that some teams have significantly more employees than others. This likely reflects the operational priorities or business needs within ABC Company. For instance, teams with more employees might indicate areas requiring substantial manpower, such as Sales or IT, whereas smaller teams could be specialized functions with a focused scope, like HR or Finance.\n",
    "2. Segregation by Position\n",
    "There is a varied distribution of employees across positions, with certain roles being more common. This could point to a hierarchical structure with more entry or mid-level employees and fewer in senior or specialized roles. Such a distribution might suggest that ABC Company emphasizes talent in roles that contribute to core functions, with a stable leadership structure that requires fewer top-level positions.\n",
    "3. Predominant Age Group\n",
    "The predominant age group within the company lies within a specific range (e.g., 30-39). This age range often corresponds with mid-career professionals, which might suggest that ABC Company values experience coupled with adaptability. Having a majority in this age bracket could imply a focus on employees who are experienced but still flexible, likely to contribute actively to long-term company goals.\n",
    "4. Salary Expenditure by Team and Position\n",
    "The highest salary expenditures are concentrated in particular teams and positions. For example, high expenditure in the IT or Sales team could reflect the company’s focus on technical innovation or revenue generation. Similarly, positions with high salary expenses are likely key roles that directly influence company performance, such as senior engineers, managers, or directors. This distribution may indicate a strategy to invest more in positions that directly impact growth and performance.\n",
    "5. Correlation Between Age and Salary\n",
    "The correlation analysis between age and salary shows a moderate to strong positive relationship, indicating that salary generally increases with age. This trend is common and suggests that ABC Company values experience, rewarding it with higher compensation. It might also imply structured career progression within the company, where tenure and experience are valued. However, if the correlation is weaker than expected, it could indicate a mix of experienced hires and fresh talent, signaling a balanced workforce strategy.\n",
    "Summary of Insights\n",
    "Operational Priorities: Larger teams or those with higher salary expenditures indicate the company’s key operational areas.\n",
    "Experience Level: The predominant age group and the correlation with salary suggest a company culture that values experience, likely promoting internal growth.\n",
    "Investment in Key Roles: Higher expenditures on specific positions and teams reflect strategic investment, possibly in revenue-driving or high-impact roles.\n",
    "These insights provide a holistic view of the workforce structure at ABC Company, revealing both strategic priorities and cultural elements, such as value placed on experience, internal growth, and team-specific investments.\n"
   ]
  }
 ],
 "metadata": {
  "kernelspec": {
   "display_name": "Python 3 (ipykernel)",
   "language": "python",
   "name": "python3"
  },
  "language_info": {
   "codemirror_mode": {
    "name": "ipython",
    "version": 3
   },
   "file_extension": ".py",
   "mimetype": "text/x-python",
   "name": "python",
   "nbconvert_exporter": "python",
   "pygments_lexer": "ipython3",
   "version": "3.13.0"
  }
 },
 "nbformat": 4,
 "nbformat_minor": 5
}
